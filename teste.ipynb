{
 "cells": [
  {
   "cell_type": "code",
   "execution_count": 2,
   "metadata": {},
   "outputs": [],
   "source": [
    "from kubernetes import client, config, utils\n",
    "import base64\n",
    "import yaml"
   ]
  },
  {
   "cell_type": "code",
   "execution_count": 3,
   "metadata": {},
   "outputs": [],
   "source": [
    "k8s_client = client.ApiClient()\n",
    "k8s_api = client.CoreV1Api()\n",
    "config.load_kube_config()"
   ]
  },
  {
   "cell_type": "code",
   "execution_count": 17,
   "metadata": {},
   "outputs": [
    {
     "data": {
      "text/plain": [
       "'H8eZR8jrJ9JuHQxq'"
      ]
     },
     "execution_count": 17,
     "metadata": {},
     "output_type": "execute_result"
    }
   ],
   "source": [
    "argo_admin_secret = k8s_api.read_namespaced_secret(\"argocd-initial-admin-secret\", \"argocd\")\n",
    "argo_admin_secret = base64.b64decode(argo_admin_secret.data['password'])\n",
    "argo_admin_secret.decode()"
   ]
  },
  {
   "cell_type": "code",
   "execution_count": 18,
   "metadata": {},
   "outputs": [
    {
     "data": {
      "text/plain": [
       "'admin1234'"
      ]
     },
     "execution_count": 18,
     "metadata": {},
     "output_type": "execute_result"
    }
   ],
   "source": [
    "minio_admin_secret = k8s_api.read_namespaced_secret(\"dev-minio\", \"dev\")\n",
    "minio_admin_secret = base64.b64decode(minio_admin_secret.data['root-password'])\n",
    "minio_admin_secret.decode()"
   ]
  },
  {
   "cell_type": "code",
   "execution_count": 4,
   "metadata": {},
   "outputs": [
    {
     "ename": "ApiException",
     "evalue": "(404)\nReason: Not Found\nHTTP response headers: HTTPHeaderDict({'Date': 'Sun, 03 Mar 2024 16:08:57 GMT', 'Server': 'Apache/2.4.57 (Ubuntu)', 'Content-Length': '271', 'Content-Type': 'text/html; charset=iso-8859-1'})\nHTTP response body: <!DOCTYPE HTML PUBLIC \"-//IETF//DTD HTML 2.0//EN\">\n<html><head>\n<title>404 Not Found</title>\n</head><body>\n<h1>Not Found</h1>\n<p>The requested URL was not found on this server.</p>\n<hr>\n<address>Apache/2.4.57 (Ubuntu) Server at localhost Port 80</address>\n</body></html>\n\n",
     "output_type": "error",
     "traceback": [
      "\u001b[0;31m---------------------------------------------------------------------------\u001b[0m",
      "\u001b[0;31mApiException\u001b[0m                              Traceback (most recent call last)",
      "Cell \u001b[0;32mIn[4], line 1\u001b[0m\n\u001b[0;32m----> 1\u001b[0m \u001b[43mk8s_api\u001b[49m\u001b[38;5;241;43m.\u001b[39;49m\u001b[43mread_namespaced_secret\u001b[49m\u001b[43m(\u001b[49m\u001b[38;5;124;43m\"\u001b[39;49m\u001b[38;5;124;43mminio-access-secret\u001b[39;49m\u001b[38;5;124;43m\"\u001b[39;49m\u001b[43m,\u001b[49m\u001b[43m \u001b[49m\u001b[38;5;124;43m\"\u001b[39;49m\u001b[38;5;124;43mdev\u001b[39;49m\u001b[38;5;124;43m\"\u001b[39;49m\u001b[43m)\u001b[49m\n",
      "File \u001b[0;32m~/estudo/project/ya-data-project-with-dbt/venv/lib/python3.11/site-packages/kubernetes/client/api/core_v1_api.py:25013\u001b[0m, in \u001b[0;36mCoreV1Api.read_namespaced_secret\u001b[0;34m(self, name, namespace, **kwargs)\u001b[0m\n\u001b[1;32m  24989\u001b[0m \u001b[38;5;250m\u001b[39m\u001b[38;5;124;03m\"\"\"read_namespaced_secret  # noqa: E501\u001b[39;00m\n\u001b[1;32m  24990\u001b[0m \n\u001b[1;32m  24991\u001b[0m \u001b[38;5;124;03mread the specified Secret  # noqa: E501\u001b[39;00m\n\u001b[0;32m   (...)\u001b[0m\n\u001b[1;32m  25010\u001b[0m \u001b[38;5;124;03m         returns the request thread.\u001b[39;00m\n\u001b[1;32m  25011\u001b[0m \u001b[38;5;124;03m\"\"\"\u001b[39;00m\n\u001b[1;32m  25012\u001b[0m kwargs[\u001b[38;5;124m'\u001b[39m\u001b[38;5;124m_return_http_data_only\u001b[39m\u001b[38;5;124m'\u001b[39m] \u001b[38;5;241m=\u001b[39m \u001b[38;5;28;01mTrue\u001b[39;00m\n\u001b[0;32m> 25013\u001b[0m \u001b[38;5;28;01mreturn\u001b[39;00m \u001b[38;5;28;43mself\u001b[39;49m\u001b[38;5;241;43m.\u001b[39;49m\u001b[43mread_namespaced_secret_with_http_info\u001b[49m\u001b[43m(\u001b[49m\u001b[43mname\u001b[49m\u001b[43m,\u001b[49m\u001b[43m \u001b[49m\u001b[43mnamespace\u001b[49m\u001b[43m,\u001b[49m\u001b[43m \u001b[49m\u001b[38;5;241;43m*\u001b[39;49m\u001b[38;5;241;43m*\u001b[39;49m\u001b[43mkwargs\u001b[49m\u001b[43m)\u001b[49m\n",
      "File \u001b[0;32m~/estudo/project/ya-data-project-with-dbt/venv/lib/python3.11/site-packages/kubernetes/client/api/core_v1_api.py:25100\u001b[0m, in \u001b[0;36mCoreV1Api.read_namespaced_secret_with_http_info\u001b[0;34m(self, name, namespace, **kwargs)\u001b[0m\n\u001b[1;32m  25097\u001b[0m \u001b[38;5;66;03m# Authentication setting\u001b[39;00m\n\u001b[1;32m  25098\u001b[0m auth_settings \u001b[38;5;241m=\u001b[39m [\u001b[38;5;124m'\u001b[39m\u001b[38;5;124mBearerToken\u001b[39m\u001b[38;5;124m'\u001b[39m]  \u001b[38;5;66;03m# noqa: E501\u001b[39;00m\n\u001b[0;32m> 25100\u001b[0m \u001b[38;5;28;01mreturn\u001b[39;00m \u001b[38;5;28;43mself\u001b[39;49m\u001b[38;5;241;43m.\u001b[39;49m\u001b[43mapi_client\u001b[49m\u001b[38;5;241;43m.\u001b[39;49m\u001b[43mcall_api\u001b[49m\u001b[43m(\u001b[49m\n\u001b[1;32m  25101\u001b[0m \u001b[43m    \u001b[49m\u001b[38;5;124;43m'\u001b[39;49m\u001b[38;5;124;43m/api/v1/namespaces/\u001b[39;49m\u001b[38;5;132;43;01m{namespace}\u001b[39;49;00m\u001b[38;5;124;43m/secrets/\u001b[39;49m\u001b[38;5;132;43;01m{name}\u001b[39;49;00m\u001b[38;5;124;43m'\u001b[39;49m\u001b[43m,\u001b[49m\u001b[43m \u001b[49m\u001b[38;5;124;43m'\u001b[39;49m\u001b[38;5;124;43mGET\u001b[39;49m\u001b[38;5;124;43m'\u001b[39;49m\u001b[43m,\u001b[49m\n\u001b[1;32m  25102\u001b[0m \u001b[43m    \u001b[49m\u001b[43mpath_params\u001b[49m\u001b[43m,\u001b[49m\n\u001b[1;32m  25103\u001b[0m \u001b[43m    \u001b[49m\u001b[43mquery_params\u001b[49m\u001b[43m,\u001b[49m\n\u001b[1;32m  25104\u001b[0m \u001b[43m    \u001b[49m\u001b[43mheader_params\u001b[49m\u001b[43m,\u001b[49m\n\u001b[1;32m  25105\u001b[0m \u001b[43m    \u001b[49m\u001b[43mbody\u001b[49m\u001b[38;5;241;43m=\u001b[39;49m\u001b[43mbody_params\u001b[49m\u001b[43m,\u001b[49m\n\u001b[1;32m  25106\u001b[0m \u001b[43m    \u001b[49m\u001b[43mpost_params\u001b[49m\u001b[38;5;241;43m=\u001b[39;49m\u001b[43mform_params\u001b[49m\u001b[43m,\u001b[49m\n\u001b[1;32m  25107\u001b[0m \u001b[43m    \u001b[49m\u001b[43mfiles\u001b[49m\u001b[38;5;241;43m=\u001b[39;49m\u001b[43mlocal_var_files\u001b[49m\u001b[43m,\u001b[49m\n\u001b[1;32m  25108\u001b[0m \u001b[43m    \u001b[49m\u001b[43mresponse_type\u001b[49m\u001b[38;5;241;43m=\u001b[39;49m\u001b[38;5;124;43m'\u001b[39;49m\u001b[38;5;124;43mV1Secret\u001b[39;49m\u001b[38;5;124;43m'\u001b[39;49m\u001b[43m,\u001b[49m\u001b[43m  \u001b[49m\u001b[38;5;66;43;03m# noqa: E501\u001b[39;49;00m\n\u001b[1;32m  25109\u001b[0m \u001b[43m    \u001b[49m\u001b[43mauth_settings\u001b[49m\u001b[38;5;241;43m=\u001b[39;49m\u001b[43mauth_settings\u001b[49m\u001b[43m,\u001b[49m\n\u001b[1;32m  25110\u001b[0m \u001b[43m    \u001b[49m\u001b[43masync_req\u001b[49m\u001b[38;5;241;43m=\u001b[39;49m\u001b[43mlocal_var_params\u001b[49m\u001b[38;5;241;43m.\u001b[39;49m\u001b[43mget\u001b[49m\u001b[43m(\u001b[49m\u001b[38;5;124;43m'\u001b[39;49m\u001b[38;5;124;43masync_req\u001b[39;49m\u001b[38;5;124;43m'\u001b[39;49m\u001b[43m)\u001b[49m\u001b[43m,\u001b[49m\n\u001b[1;32m  25111\u001b[0m \u001b[43m    \u001b[49m\u001b[43m_return_http_data_only\u001b[49m\u001b[38;5;241;43m=\u001b[39;49m\u001b[43mlocal_var_params\u001b[49m\u001b[38;5;241;43m.\u001b[39;49m\u001b[43mget\u001b[49m\u001b[43m(\u001b[49m\u001b[38;5;124;43m'\u001b[39;49m\u001b[38;5;124;43m_return_http_data_only\u001b[39;49m\u001b[38;5;124;43m'\u001b[39;49m\u001b[43m)\u001b[49m\u001b[43m,\u001b[49m\u001b[43m  \u001b[49m\u001b[38;5;66;43;03m# noqa: E501\u001b[39;49;00m\n\u001b[1;32m  25112\u001b[0m \u001b[43m    \u001b[49m\u001b[43m_preload_content\u001b[49m\u001b[38;5;241;43m=\u001b[39;49m\u001b[43mlocal_var_params\u001b[49m\u001b[38;5;241;43m.\u001b[39;49m\u001b[43mget\u001b[49m\u001b[43m(\u001b[49m\u001b[38;5;124;43m'\u001b[39;49m\u001b[38;5;124;43m_preload_content\u001b[39;49m\u001b[38;5;124;43m'\u001b[39;49m\u001b[43m,\u001b[49m\u001b[43m \u001b[49m\u001b[38;5;28;43;01mTrue\u001b[39;49;00m\u001b[43m)\u001b[49m\u001b[43m,\u001b[49m\n\u001b[1;32m  25113\u001b[0m \u001b[43m    \u001b[49m\u001b[43m_request_timeout\u001b[49m\u001b[38;5;241;43m=\u001b[39;49m\u001b[43mlocal_var_params\u001b[49m\u001b[38;5;241;43m.\u001b[39;49m\u001b[43mget\u001b[49m\u001b[43m(\u001b[49m\u001b[38;5;124;43m'\u001b[39;49m\u001b[38;5;124;43m_request_timeout\u001b[39;49m\u001b[38;5;124;43m'\u001b[39;49m\u001b[43m)\u001b[49m\u001b[43m,\u001b[49m\n\u001b[1;32m  25114\u001b[0m \u001b[43m    \u001b[49m\u001b[43mcollection_formats\u001b[49m\u001b[38;5;241;43m=\u001b[39;49m\u001b[43mcollection_formats\u001b[49m\u001b[43m)\u001b[49m\n",
      "File \u001b[0;32m~/estudo/project/ya-data-project-with-dbt/venv/lib/python3.11/site-packages/kubernetes/client/api_client.py:348\u001b[0m, in \u001b[0;36mApiClient.call_api\u001b[0;34m(self, resource_path, method, path_params, query_params, header_params, body, post_params, files, response_type, auth_settings, async_req, _return_http_data_only, collection_formats, _preload_content, _request_timeout, _host)\u001b[0m\n\u001b[1;32m    311\u001b[0m \u001b[38;5;250m\u001b[39m\u001b[38;5;124;03m\"\"\"Makes the HTTP request (synchronous) and returns deserialized data.\u001b[39;00m\n\u001b[1;32m    312\u001b[0m \n\u001b[1;32m    313\u001b[0m \u001b[38;5;124;03mTo make an async_req request, set the async_req parameter.\u001b[39;00m\n\u001b[0;32m   (...)\u001b[0m\n\u001b[1;32m    345\u001b[0m \u001b[38;5;124;03m    then the method will return the response directly.\u001b[39;00m\n\u001b[1;32m    346\u001b[0m \u001b[38;5;124;03m\"\"\"\u001b[39;00m\n\u001b[1;32m    347\u001b[0m \u001b[38;5;28;01mif\u001b[39;00m \u001b[38;5;129;01mnot\u001b[39;00m async_req:\n\u001b[0;32m--> 348\u001b[0m     \u001b[38;5;28;01mreturn\u001b[39;00m \u001b[38;5;28;43mself\u001b[39;49m\u001b[38;5;241;43m.\u001b[39;49m\u001b[43m__call_api\u001b[49m\u001b[43m(\u001b[49m\u001b[43mresource_path\u001b[49m\u001b[43m,\u001b[49m\u001b[43m \u001b[49m\u001b[43mmethod\u001b[49m\u001b[43m,\u001b[49m\n\u001b[1;32m    349\u001b[0m \u001b[43m                           \u001b[49m\u001b[43mpath_params\u001b[49m\u001b[43m,\u001b[49m\u001b[43m \u001b[49m\u001b[43mquery_params\u001b[49m\u001b[43m,\u001b[49m\u001b[43m \u001b[49m\u001b[43mheader_params\u001b[49m\u001b[43m,\u001b[49m\n\u001b[1;32m    350\u001b[0m \u001b[43m                           \u001b[49m\u001b[43mbody\u001b[49m\u001b[43m,\u001b[49m\u001b[43m \u001b[49m\u001b[43mpost_params\u001b[49m\u001b[43m,\u001b[49m\u001b[43m \u001b[49m\u001b[43mfiles\u001b[49m\u001b[43m,\u001b[49m\n\u001b[1;32m    351\u001b[0m \u001b[43m                           \u001b[49m\u001b[43mresponse_type\u001b[49m\u001b[43m,\u001b[49m\u001b[43m \u001b[49m\u001b[43mauth_settings\u001b[49m\u001b[43m,\u001b[49m\n\u001b[1;32m    352\u001b[0m \u001b[43m                           \u001b[49m\u001b[43m_return_http_data_only\u001b[49m\u001b[43m,\u001b[49m\u001b[43m \u001b[49m\u001b[43mcollection_formats\u001b[49m\u001b[43m,\u001b[49m\n\u001b[1;32m    353\u001b[0m \u001b[43m                           \u001b[49m\u001b[43m_preload_content\u001b[49m\u001b[43m,\u001b[49m\u001b[43m \u001b[49m\u001b[43m_request_timeout\u001b[49m\u001b[43m,\u001b[49m\u001b[43m \u001b[49m\u001b[43m_host\u001b[49m\u001b[43m)\u001b[49m\n\u001b[1;32m    355\u001b[0m \u001b[38;5;28;01mreturn\u001b[39;00m \u001b[38;5;28mself\u001b[39m\u001b[38;5;241m.\u001b[39mpool\u001b[38;5;241m.\u001b[39mapply_async(\u001b[38;5;28mself\u001b[39m\u001b[38;5;241m.\u001b[39m__call_api, (resource_path,\n\u001b[1;32m    356\u001b[0m                                                method, path_params,\n\u001b[1;32m    357\u001b[0m                                                query_params,\n\u001b[0;32m   (...)\u001b[0m\n\u001b[1;32m    365\u001b[0m                                                _request_timeout,\n\u001b[1;32m    366\u001b[0m                                                _host))\n",
      "File \u001b[0;32m~/estudo/project/ya-data-project-with-dbt/venv/lib/python3.11/site-packages/kubernetes/client/api_client.py:180\u001b[0m, in \u001b[0;36mApiClient.__call_api\u001b[0;34m(self, resource_path, method, path_params, query_params, header_params, body, post_params, files, response_type, auth_settings, _return_http_data_only, collection_formats, _preload_content, _request_timeout, _host)\u001b[0m\n\u001b[1;32m    177\u001b[0m     url \u001b[38;5;241m=\u001b[39m _host \u001b[38;5;241m+\u001b[39m resource_path\n\u001b[1;32m    179\u001b[0m \u001b[38;5;66;03m# perform request and return response\u001b[39;00m\n\u001b[0;32m--> 180\u001b[0m response_data \u001b[38;5;241m=\u001b[39m \u001b[38;5;28;43mself\u001b[39;49m\u001b[38;5;241;43m.\u001b[39;49m\u001b[43mrequest\u001b[49m\u001b[43m(\u001b[49m\n\u001b[1;32m    181\u001b[0m \u001b[43m    \u001b[49m\u001b[43mmethod\u001b[49m\u001b[43m,\u001b[49m\u001b[43m \u001b[49m\u001b[43murl\u001b[49m\u001b[43m,\u001b[49m\u001b[43m \u001b[49m\u001b[43mquery_params\u001b[49m\u001b[38;5;241;43m=\u001b[39;49m\u001b[43mquery_params\u001b[49m\u001b[43m,\u001b[49m\u001b[43m \u001b[49m\u001b[43mheaders\u001b[49m\u001b[38;5;241;43m=\u001b[39;49m\u001b[43mheader_params\u001b[49m\u001b[43m,\u001b[49m\n\u001b[1;32m    182\u001b[0m \u001b[43m    \u001b[49m\u001b[43mpost_params\u001b[49m\u001b[38;5;241;43m=\u001b[39;49m\u001b[43mpost_params\u001b[49m\u001b[43m,\u001b[49m\u001b[43m \u001b[49m\u001b[43mbody\u001b[49m\u001b[38;5;241;43m=\u001b[39;49m\u001b[43mbody\u001b[49m\u001b[43m,\u001b[49m\n\u001b[1;32m    183\u001b[0m \u001b[43m    \u001b[49m\u001b[43m_preload_content\u001b[49m\u001b[38;5;241;43m=\u001b[39;49m\u001b[43m_preload_content\u001b[49m\u001b[43m,\u001b[49m\n\u001b[1;32m    184\u001b[0m \u001b[43m    \u001b[49m\u001b[43m_request_timeout\u001b[49m\u001b[38;5;241;43m=\u001b[39;49m\u001b[43m_request_timeout\u001b[49m\u001b[43m)\u001b[49m\n\u001b[1;32m    186\u001b[0m \u001b[38;5;28mself\u001b[39m\u001b[38;5;241m.\u001b[39mlast_response \u001b[38;5;241m=\u001b[39m response_data\n\u001b[1;32m    188\u001b[0m return_data \u001b[38;5;241m=\u001b[39m response_data\n",
      "File \u001b[0;32m~/estudo/project/ya-data-project-with-dbt/venv/lib/python3.11/site-packages/kubernetes/client/api_client.py:373\u001b[0m, in \u001b[0;36mApiClient.request\u001b[0;34m(self, method, url, query_params, headers, post_params, body, _preload_content, _request_timeout)\u001b[0m\n\u001b[1;32m    371\u001b[0m \u001b[38;5;250m\u001b[39m\u001b[38;5;124;03m\"\"\"Makes the HTTP request using RESTClient.\"\"\"\u001b[39;00m\n\u001b[1;32m    372\u001b[0m \u001b[38;5;28;01mif\u001b[39;00m method \u001b[38;5;241m==\u001b[39m \u001b[38;5;124m\"\u001b[39m\u001b[38;5;124mGET\u001b[39m\u001b[38;5;124m\"\u001b[39m:\n\u001b[0;32m--> 373\u001b[0m     \u001b[38;5;28;01mreturn\u001b[39;00m \u001b[38;5;28;43mself\u001b[39;49m\u001b[38;5;241;43m.\u001b[39;49m\u001b[43mrest_client\u001b[49m\u001b[38;5;241;43m.\u001b[39;49m\u001b[43mGET\u001b[49m\u001b[43m(\u001b[49m\u001b[43murl\u001b[49m\u001b[43m,\u001b[49m\n\u001b[1;32m    374\u001b[0m \u001b[43m                                \u001b[49m\u001b[43mquery_params\u001b[49m\u001b[38;5;241;43m=\u001b[39;49m\u001b[43mquery_params\u001b[49m\u001b[43m,\u001b[49m\n\u001b[1;32m    375\u001b[0m \u001b[43m                                \u001b[49m\u001b[43m_preload_content\u001b[49m\u001b[38;5;241;43m=\u001b[39;49m\u001b[43m_preload_content\u001b[49m\u001b[43m,\u001b[49m\n\u001b[1;32m    376\u001b[0m \u001b[43m                                \u001b[49m\u001b[43m_request_timeout\u001b[49m\u001b[38;5;241;43m=\u001b[39;49m\u001b[43m_request_timeout\u001b[49m\u001b[43m,\u001b[49m\n\u001b[1;32m    377\u001b[0m \u001b[43m                                \u001b[49m\u001b[43mheaders\u001b[49m\u001b[38;5;241;43m=\u001b[39;49m\u001b[43mheaders\u001b[49m\u001b[43m)\u001b[49m\n\u001b[1;32m    378\u001b[0m \u001b[38;5;28;01melif\u001b[39;00m method \u001b[38;5;241m==\u001b[39m \u001b[38;5;124m\"\u001b[39m\u001b[38;5;124mHEAD\u001b[39m\u001b[38;5;124m\"\u001b[39m:\n\u001b[1;32m    379\u001b[0m     \u001b[38;5;28;01mreturn\u001b[39;00m \u001b[38;5;28mself\u001b[39m\u001b[38;5;241m.\u001b[39mrest_client\u001b[38;5;241m.\u001b[39mHEAD(url,\n\u001b[1;32m    380\u001b[0m                                  query_params\u001b[38;5;241m=\u001b[39mquery_params,\n\u001b[1;32m    381\u001b[0m                                  _preload_content\u001b[38;5;241m=\u001b[39m_preload_content,\n\u001b[1;32m    382\u001b[0m                                  _request_timeout\u001b[38;5;241m=\u001b[39m_request_timeout,\n\u001b[1;32m    383\u001b[0m                                  headers\u001b[38;5;241m=\u001b[39mheaders)\n",
      "File \u001b[0;32m~/estudo/project/ya-data-project-with-dbt/venv/lib/python3.11/site-packages/kubernetes/client/rest.py:244\u001b[0m, in \u001b[0;36mRESTClientObject.GET\u001b[0;34m(self, url, headers, query_params, _preload_content, _request_timeout)\u001b[0m\n\u001b[1;32m    242\u001b[0m \u001b[38;5;28;01mdef\u001b[39;00m \u001b[38;5;21mGET\u001b[39m(\u001b[38;5;28mself\u001b[39m, url, headers\u001b[38;5;241m=\u001b[39m\u001b[38;5;28;01mNone\u001b[39;00m, query_params\u001b[38;5;241m=\u001b[39m\u001b[38;5;28;01mNone\u001b[39;00m, _preload_content\u001b[38;5;241m=\u001b[39m\u001b[38;5;28;01mTrue\u001b[39;00m,\n\u001b[1;32m    243\u001b[0m         _request_timeout\u001b[38;5;241m=\u001b[39m\u001b[38;5;28;01mNone\u001b[39;00m):\n\u001b[0;32m--> 244\u001b[0m     \u001b[38;5;28;01mreturn\u001b[39;00m \u001b[38;5;28;43mself\u001b[39;49m\u001b[38;5;241;43m.\u001b[39;49m\u001b[43mrequest\u001b[49m\u001b[43m(\u001b[49m\u001b[38;5;124;43m\"\u001b[39;49m\u001b[38;5;124;43mGET\u001b[39;49m\u001b[38;5;124;43m\"\u001b[39;49m\u001b[43m,\u001b[49m\u001b[43m \u001b[49m\u001b[43murl\u001b[49m\u001b[43m,\u001b[49m\n\u001b[1;32m    245\u001b[0m \u001b[43m                        \u001b[49m\u001b[43mheaders\u001b[49m\u001b[38;5;241;43m=\u001b[39;49m\u001b[43mheaders\u001b[49m\u001b[43m,\u001b[49m\n\u001b[1;32m    246\u001b[0m \u001b[43m                        \u001b[49m\u001b[43m_preload_content\u001b[49m\u001b[38;5;241;43m=\u001b[39;49m\u001b[43m_preload_content\u001b[49m\u001b[43m,\u001b[49m\n\u001b[1;32m    247\u001b[0m \u001b[43m                        \u001b[49m\u001b[43m_request_timeout\u001b[49m\u001b[38;5;241;43m=\u001b[39;49m\u001b[43m_request_timeout\u001b[49m\u001b[43m,\u001b[49m\n\u001b[1;32m    248\u001b[0m \u001b[43m                        \u001b[49m\u001b[43mquery_params\u001b[49m\u001b[38;5;241;43m=\u001b[39;49m\u001b[43mquery_params\u001b[49m\u001b[43m)\u001b[49m\n",
      "File \u001b[0;32m~/estudo/project/ya-data-project-with-dbt/venv/lib/python3.11/site-packages/kubernetes/client/rest.py:238\u001b[0m, in \u001b[0;36mRESTClientObject.request\u001b[0;34m(self, method, url, query_params, headers, body, post_params, _preload_content, _request_timeout)\u001b[0m\n\u001b[1;32m    235\u001b[0m     logger\u001b[38;5;241m.\u001b[39mdebug(\u001b[38;5;124m\"\u001b[39m\u001b[38;5;124mresponse body: \u001b[39m\u001b[38;5;132;01m%s\u001b[39;00m\u001b[38;5;124m\"\u001b[39m, r\u001b[38;5;241m.\u001b[39mdata)\n\u001b[1;32m    237\u001b[0m \u001b[38;5;28;01mif\u001b[39;00m \u001b[38;5;129;01mnot\u001b[39;00m \u001b[38;5;241m200\u001b[39m \u001b[38;5;241m<\u001b[39m\u001b[38;5;241m=\u001b[39m r\u001b[38;5;241m.\u001b[39mstatus \u001b[38;5;241m<\u001b[39m\u001b[38;5;241m=\u001b[39m \u001b[38;5;241m299\u001b[39m:\n\u001b[0;32m--> 238\u001b[0m     \u001b[38;5;28;01mraise\u001b[39;00m ApiException(http_resp\u001b[38;5;241m=\u001b[39mr)\n\u001b[1;32m    240\u001b[0m \u001b[38;5;28;01mreturn\u001b[39;00m r\n",
      "\u001b[0;31mApiException\u001b[0m: (404)\nReason: Not Found\nHTTP response headers: HTTPHeaderDict({'Date': 'Sun, 03 Mar 2024 16:08:57 GMT', 'Server': 'Apache/2.4.57 (Ubuntu)', 'Content-Length': '271', 'Content-Type': 'text/html; charset=iso-8859-1'})\nHTTP response body: <!DOCTYPE HTML PUBLIC \"-//IETF//DTD HTML 2.0//EN\">\n<html><head>\n<title>404 Not Found</title>\n</head><body>\n<h1>Not Found</h1>\n<p>The requested URL was not found on this server.</p>\n<hr>\n<address>Apache/2.4.57 (Ubuntu) Server at localhost Port 80</address>\n</body></html>\n\n"
     ]
    }
   ],
   "source": [
    "k8s_api.read_namespaced_secret(\"minio-access-secret\", \"dev\")"
   ]
  },
  {
   "cell_type": "code",
   "execution_count": 18,
   "metadata": {},
   "outputs": [
    {
     "data": {
      "text/plain": [
       "[[{'api_version': 'v1',\n",
       "   'kind': 'PersistentVolume',\n",
       "   'metadata': {'annotations': None,\n",
       "                'creation_timestamp': datetime.datetime(2024, 3, 2, 15, 59, 19, tzinfo=tzutc()),\n",
       "                'deletion_grace_period_seconds': None,\n",
       "                'deletion_timestamp': None,\n",
       "                'finalizers': ['kubernetes.io/pv-protection'],\n",
       "                'generate_name': None,\n",
       "                'generation': None,\n",
       "                'labels': None,\n",
       "                'managed_fields': [{'api_version': 'v1',\n",
       "                                    'fields_type': 'FieldsV1',\n",
       "                                    'fields_v1': {'f:spec': {'f:accessModes': {},\n",
       "                                                             'f:capacity': {'.': {},\n",
       "                                                                            'f:storage': {}},\n",
       "                                                             'f:hostPath': {'.': {},\n",
       "                                                                            'f:path': {},\n",
       "                                                                            'f:type': {}},\n",
       "                                                             'f:persistentVolumeReclaimPolicy': {},\n",
       "                                                             'f:volumeMode': {}}},\n",
       "                                    'manager': 'OpenAPI-Generator',\n",
       "                                    'operation': 'Update',\n",
       "                                    'subresource': None,\n",
       "                                    'time': datetime.datetime(2024, 3, 2, 15, 59, 19, tzinfo=tzutc())}],\n",
       "                'name': 'minio-pv',\n",
       "                'namespace': None,\n",
       "                'owner_references': None,\n",
       "                'resource_version': '1807',\n",
       "                'self_link': None,\n",
       "                'uid': '299c9a48-7a28-46c9-8f18-be52ac4ce3a0'},\n",
       "   'spec': {'access_modes': ['ReadWriteOnce'],\n",
       "            'aws_elastic_block_store': None,\n",
       "            'azure_disk': None,\n",
       "            'azure_file': None,\n",
       "            'capacity': {'storage': '10Gi'},\n",
       "            'cephfs': None,\n",
       "            'cinder': None,\n",
       "            'claim_ref': None,\n",
       "            'csi': None,\n",
       "            'fc': None,\n",
       "            'flex_volume': None,\n",
       "            'flocker': None,\n",
       "            'gce_persistent_disk': None,\n",
       "            'glusterfs': None,\n",
       "            'host_path': {'path': '/volumes', 'type': ''},\n",
       "            'iscsi': None,\n",
       "            'local': None,\n",
       "            'mount_options': None,\n",
       "            'nfs': None,\n",
       "            'node_affinity': None,\n",
       "            'persistent_volume_reclaim_policy': 'Retain',\n",
       "            'photon_persistent_disk': None,\n",
       "            'portworx_volume': None,\n",
       "            'quobyte': None,\n",
       "            'rbd': None,\n",
       "            'scale_io': None,\n",
       "            'storage_class_name': None,\n",
       "            'storageos': None,\n",
       "            'volume_attributes_class_name': None,\n",
       "            'volume_mode': 'Filesystem',\n",
       "            'vsphere_volume': None},\n",
       "   'status': {'last_phase_transition_time': None,\n",
       "              'message': None,\n",
       "              'phase': 'Pending',\n",
       "              'reason': None}}],\n",
       " [{'api_version': 'v1',\n",
       "   'kind': 'PersistentVolume',\n",
       "   'metadata': {'annotations': None,\n",
       "                'creation_timestamp': datetime.datetime(2024, 3, 2, 15, 59, 19, tzinfo=tzutc()),\n",
       "                'deletion_grace_period_seconds': None,\n",
       "                'deletion_timestamp': None,\n",
       "                'finalizers': ['kubernetes.io/pv-protection'],\n",
       "                'generate_name': None,\n",
       "                'generation': None,\n",
       "                'labels': None,\n",
       "                'managed_fields': [{'api_version': 'v1',\n",
       "                                    'fields_type': 'FieldsV1',\n",
       "                                    'fields_v1': {'f:spec': {'f:accessModes': {},\n",
       "                                                             'f:capacity': {'.': {},\n",
       "                                                                            'f:storage': {}},\n",
       "                                                             'f:hostPath': {'.': {},\n",
       "                                                                            'f:path': {},\n",
       "                                                                            'f:type': {}},\n",
       "                                                             'f:persistentVolumeReclaimPolicy': {},\n",
       "                                                             'f:volumeMode': {}}},\n",
       "                                    'manager': 'OpenAPI-Generator',\n",
       "                                    'operation': 'Update',\n",
       "                                    'subresource': None,\n",
       "                                    'time': datetime.datetime(2024, 3, 2, 15, 59, 19, tzinfo=tzutc())}],\n",
       "                'name': 'kafka-pv',\n",
       "                'namespace': None,\n",
       "                'owner_references': None,\n",
       "                'resource_version': '1809',\n",
       "                'self_link': None,\n",
       "                'uid': '40ada42c-22e6-45e5-bb87-20b3e3d084cf'},\n",
       "   'spec': {'access_modes': ['ReadWriteOnce'],\n",
       "            'aws_elastic_block_store': None,\n",
       "            'azure_disk': None,\n",
       "            'azure_file': None,\n",
       "            'capacity': {'storage': '8Gi'},\n",
       "            'cephfs': None,\n",
       "            'cinder': None,\n",
       "            'claim_ref': None,\n",
       "            'csi': None,\n",
       "            'fc': None,\n",
       "            'flex_volume': None,\n",
       "            'flocker': None,\n",
       "            'gce_persistent_disk': None,\n",
       "            'glusterfs': None,\n",
       "            'host_path': {'path': '/volumes', 'type': ''},\n",
       "            'iscsi': None,\n",
       "            'local': None,\n",
       "            'mount_options': None,\n",
       "            'nfs': None,\n",
       "            'node_affinity': None,\n",
       "            'persistent_volume_reclaim_policy': 'Retain',\n",
       "            'photon_persistent_disk': None,\n",
       "            'portworx_volume': None,\n",
       "            'quobyte': None,\n",
       "            'rbd': None,\n",
       "            'scale_io': None,\n",
       "            'storage_class_name': None,\n",
       "            'storageos': None,\n",
       "            'volume_attributes_class_name': None,\n",
       "            'volume_mode': 'Filesystem',\n",
       "            'vsphere_volume': None},\n",
       "   'status': {'last_phase_transition_time': None,\n",
       "              'message': None,\n",
       "              'phase': 'Pending',\n",
       "              'reason': None}}]]"
      ]
     },
     "execution_count": 18,
     "metadata": {},
     "output_type": "execute_result"
    }
   ],
   "source": [
    "yaml_file = \"cluster-config/create-persistent-volumes.yaml\"\n",
    "utils.create_from_yaml(k8s_client,yaml_file,namespace='dev')"
   ]
  },
  {
   "cell_type": "code",
   "execution_count": 19,
   "metadata": {},
   "outputs": [
    {
     "data": {
      "text/plain": [
       "[[{'api_version': 'v1',\n",
       "   'kind': 'PersistentVolumeClaim',\n",
       "   'metadata': {'annotations': None,\n",
       "                'creation_timestamp': datetime.datetime(2024, 3, 2, 15, 59, 22, tzinfo=tzutc()),\n",
       "                'deletion_grace_period_seconds': None,\n",
       "                'deletion_timestamp': None,\n",
       "                'finalizers': ['kubernetes.io/pvc-protection'],\n",
       "                'generate_name': None,\n",
       "                'generation': None,\n",
       "                'labels': None,\n",
       "                'managed_fields': [{'api_version': 'v1',\n",
       "                                    'fields_type': 'FieldsV1',\n",
       "                                    'fields_v1': {'f:spec': {'f:accessModes': {},\n",
       "                                                             'f:resources': {'f:requests': {'.': {},\n",
       "                                                                                            'f:storage': {}}},\n",
       "                                                             'f:volumeMode': {}}},\n",
       "                                    'manager': 'OpenAPI-Generator',\n",
       "                                    'operation': 'Update',\n",
       "                                    'subresource': None,\n",
       "                                    'time': datetime.datetime(2024, 3, 2, 15, 59, 22, tzinfo=tzutc())}],\n",
       "                'name': 'minio-pvc',\n",
       "                'namespace': 'dev',\n",
       "                'owner_references': None,\n",
       "                'resource_version': '1815',\n",
       "                'self_link': None,\n",
       "                'uid': '6270eaba-63b8-40ab-b7d9-a0d3cd73864e'},\n",
       "   'spec': {'access_modes': ['ReadWriteOnce'],\n",
       "            'data_source': None,\n",
       "            'data_source_ref': None,\n",
       "            'resources': {'limits': None, 'requests': {'storage': '8Gi'}},\n",
       "            'selector': None,\n",
       "            'storage_class_name': 'standard',\n",
       "            'volume_attributes_class_name': None,\n",
       "            'volume_mode': 'Filesystem',\n",
       "            'volume_name': None},\n",
       "   'status': {'access_modes': None,\n",
       "              'allocated_resource_statuses': None,\n",
       "              'allocated_resources': None,\n",
       "              'capacity': None,\n",
       "              'conditions': None,\n",
       "              'current_volume_attributes_class_name': None,\n",
       "              'modify_volume_status': None,\n",
       "              'phase': 'Pending'}}],\n",
       " [{'api_version': 'v1',\n",
       "   'kind': 'PersistentVolumeClaim',\n",
       "   'metadata': {'annotations': None,\n",
       "                'creation_timestamp': datetime.datetime(2024, 3, 2, 15, 59, 22, tzinfo=tzutc()),\n",
       "                'deletion_grace_period_seconds': None,\n",
       "                'deletion_timestamp': None,\n",
       "                'finalizers': ['kubernetes.io/pvc-protection'],\n",
       "                'generate_name': None,\n",
       "                'generation': None,\n",
       "                'labels': None,\n",
       "                'managed_fields': [{'api_version': 'v1',\n",
       "                                    'fields_type': 'FieldsV1',\n",
       "                                    'fields_v1': {'f:spec': {'f:accessModes': {},\n",
       "                                                             'f:resources': {'f:requests': {'.': {},\n",
       "                                                                                            'f:storage': {}}},\n",
       "                                                             'f:volumeMode': {}}},\n",
       "                                    'manager': 'OpenAPI-Generator',\n",
       "                                    'operation': 'Update',\n",
       "                                    'subresource': None,\n",
       "                                    'time': datetime.datetime(2024, 3, 2, 15, 59, 22, tzinfo=tzutc())}],\n",
       "                'name': 'kafka-pvc',\n",
       "                'namespace': 'dev',\n",
       "                'owner_references': None,\n",
       "                'resource_version': '1818',\n",
       "                'self_link': None,\n",
       "                'uid': '30b52895-69ae-406e-a2c1-4da08a4aba5c'},\n",
       "   'spec': {'access_modes': ['ReadWriteOnce'],\n",
       "            'data_source': None,\n",
       "            'data_source_ref': None,\n",
       "            'resources': {'limits': None, 'requests': {'storage': '8Gi'}},\n",
       "            'selector': None,\n",
       "            'storage_class_name': 'standard',\n",
       "            'volume_attributes_class_name': None,\n",
       "            'volume_mode': 'Filesystem',\n",
       "            'volume_name': None},\n",
       "   'status': {'access_modes': None,\n",
       "              'allocated_resource_statuses': None,\n",
       "              'allocated_resources': None,\n",
       "              'capacity': None,\n",
       "              'conditions': None,\n",
       "              'current_volume_attributes_class_name': None,\n",
       "              'modify_volume_status': None,\n",
       "              'phase': 'Pending'}}]]"
      ]
     },
     "execution_count": 19,
     "metadata": {},
     "output_type": "execute_result"
    }
   ],
   "source": [
    "yaml_file = \"cluster-config/pv-claim.yaml\"\n",
    "utils.create_from_yaml(k8s_client,yaml_file,namespace='dev')"
   ]
  }
 ],
 "metadata": {
  "kernelspec": {
   "display_name": "venv",
   "language": "python",
   "name": "python3"
  },
  "language_info": {
   "codemirror_mode": {
    "name": "ipython",
    "version": 3
   },
   "file_extension": ".py",
   "mimetype": "text/x-python",
   "name": "python",
   "nbconvert_exporter": "python",
   "pygments_lexer": "ipython3",
   "version": "3.11.6"
  }
 },
 "nbformat": 4,
 "nbformat_minor": 2
}
