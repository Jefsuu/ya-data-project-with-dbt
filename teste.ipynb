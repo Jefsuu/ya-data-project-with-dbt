{
 "cells": [
  {
   "cell_type": "code",
   "execution_count": 1,
   "metadata": {},
   "outputs": [],
   "source": [
    "from kubernetes import client, config, utils\n",
    "import base64\n",
    "import yaml"
   ]
  },
  {
   "cell_type": "code",
   "execution_count": 2,
   "metadata": {},
   "outputs": [],
   "source": [
    "config.load_kube_config()\n",
    "k8s_client = client.ApiClient()\n",
    "k8s_api = client.CoreV1Api()\n"
   ]
  },
  {
   "cell_type": "code",
   "execution_count": 17,
   "metadata": {},
   "outputs": [
    {
     "data": {
      "text/plain": [
       "'H8eZR8jrJ9JuHQxq'"
      ]
     },
     "execution_count": 17,
     "metadata": {},
     "output_type": "execute_result"
    }
   ],
   "source": [
    "argo_admin_secret = k8s_api.read_namespaced_secret(\"argocd-initial-admin-secret\", \"argocd\")\n",
    "argo_admin_secret = base64.b64decode(argo_admin_secret.data['password'])\n",
    "argo_admin_secret.decode()"
   ]
  },
  {
   "cell_type": "code",
   "execution_count": 3,
   "metadata": {},
   "outputs": [
    {
     "data": {
      "text/plain": [
       "'admin1234'"
      ]
     },
     "execution_count": 3,
     "metadata": {},
     "output_type": "execute_result"
    }
   ],
   "source": [
    "minio_admin_secret = k8s_api.read_namespaced_secret(\"dev-minio\", \"dev\")\n",
    "minio_admin_secret = base64.b64decode(minio_admin_secret.data['root-password'])\n",
    "minio_admin_secret.decode()"
   ]
  },
  {
   "cell_type": "code",
   "execution_count": 7,
   "metadata": {},
   "outputs": [
    {
     "ename": "FailToCreateError",
     "evalue": "Error from server (Not Found): <!DOCTYPE HTML PUBLIC \"-//IETF//DTD HTML 2.0//EN\">\n<html><head>\n<title>404 Not Found</title>\n</head><body>\n<h1>Not Found</h1>\n<p>The requested URL was not found on this server.</p>\n<hr>\n<address>Apache/2.4.57 (Ubuntu) Server at localhost Port 80</address>\n</body></html>\nError from server (Not Found): <!DOCTYPE HTML PUBLIC \"-//IETF//DTD HTML 2.0//EN\">\n<html><head>\n<title>404 Not Found</title>\n</head><body>\n<h1>Not Found</h1>\n<p>The requested URL was not found on this server.</p>\n<hr>\n<address>Apache/2.4.57 (Ubuntu) Server at localhost Port 80</address>\n</body></html>\n",
     "output_type": "error",
     "traceback": [
      "\u001b[0;31m---------------------------------------------------------------------------\u001b[0m",
      "\u001b[0;31mFailToCreateError\u001b[0m                         Traceback (most recent call last)",
      "Cell \u001b[0;32mIn[7], line 2\u001b[0m\n\u001b[1;32m      1\u001b[0m yaml_file \u001b[38;5;241m=\u001b[39m \u001b[38;5;124m\"\u001b[39m\u001b[38;5;124mcluster-config/create-persistent-volumes.yaml\u001b[39m\u001b[38;5;124m\"\u001b[39m\n\u001b[0;32m----> 2\u001b[0m \u001b[43mutils\u001b[49m\u001b[38;5;241;43m.\u001b[39;49m\u001b[43mcreate_from_yaml\u001b[49m\u001b[43m(\u001b[49m\u001b[43mk8s_client\u001b[49m\u001b[43m,\u001b[49m\u001b[43myaml_file\u001b[49m\u001b[43m,\u001b[49m\u001b[43mnamespace\u001b[49m\u001b[38;5;241;43m=\u001b[39;49m\u001b[38;5;124;43m'\u001b[39;49m\u001b[38;5;124;43mdev\u001b[39;49m\u001b[38;5;124;43m'\u001b[39;49m\u001b[43m)\u001b[49m\n",
      "File \u001b[0;32m~/estudo/project/ya-data-project-with-dbt/venv/lib/python3.11/site-packages/kubernetes/utils/create_from_yaml.py:167\u001b[0m, in \u001b[0;36mcreate_from_yaml\u001b[0;34m(k8s_client, yaml_file, yaml_objects, verbose, namespace, **kwargs)\u001b[0m\n\u001b[1;32m    165\u001b[0m     \u001b[38;5;28;01mwith\u001b[39;00m \u001b[38;5;28mopen\u001b[39m(os\u001b[38;5;241m.\u001b[39mpath\u001b[38;5;241m.\u001b[39mabspath(yaml_file)) \u001b[38;5;28;01mas\u001b[39;00m f:\n\u001b[1;32m    166\u001b[0m         yml_document_all \u001b[38;5;241m=\u001b[39m yaml\u001b[38;5;241m.\u001b[39mload_all(f, Loader\u001b[38;5;241m=\u001b[39mLoader)\n\u001b[0;32m--> 167\u001b[0m         \u001b[38;5;28;01mreturn\u001b[39;00m \u001b[43mcreate_with\u001b[49m\u001b[43m(\u001b[49m\u001b[43myml_document_all\u001b[49m\u001b[43m)\u001b[49m\n\u001b[1;32m    168\u001b[0m \u001b[38;5;28;01melse\u001b[39;00m:\n\u001b[1;32m    169\u001b[0m     \u001b[38;5;28;01mraise\u001b[39;00m \u001b[38;5;167;01mValueError\u001b[39;00m(\n\u001b[1;32m    170\u001b[0m         \u001b[38;5;124m'\u001b[39m\u001b[38;5;124mOne of `yaml_file` or `yaml_objects` arguments must be provided\u001b[39m\u001b[38;5;124m'\u001b[39m)\n",
      "File \u001b[0;32m~/estudo/project/ya-data-project-with-dbt/venv/lib/python3.11/site-packages/kubernetes/utils/create_from_yaml.py:153\u001b[0m, in \u001b[0;36mcreate_from_yaml.<locals>.create_with\u001b[0;34m(objects)\u001b[0m\n\u001b[1;32m    151\u001b[0m         failures\u001b[38;5;241m.\u001b[39mextend(failure\u001b[38;5;241m.\u001b[39mapi_exceptions)\n\u001b[1;32m    152\u001b[0m \u001b[38;5;28;01mif\u001b[39;00m failures:\n\u001b[0;32m--> 153\u001b[0m     \u001b[38;5;28;01mraise\u001b[39;00m FailToCreateError(failures)\n\u001b[1;32m    154\u001b[0m \u001b[38;5;28;01mreturn\u001b[39;00m k8s_objects\n",
      "\u001b[0;31mFailToCreateError\u001b[0m: Error from server (Not Found): <!DOCTYPE HTML PUBLIC \"-//IETF//DTD HTML 2.0//EN\">\n<html><head>\n<title>404 Not Found</title>\n</head><body>\n<h1>Not Found</h1>\n<p>The requested URL was not found on this server.</p>\n<hr>\n<address>Apache/2.4.57 (Ubuntu) Server at localhost Port 80</address>\n</body></html>\nError from server (Not Found): <!DOCTYPE HTML PUBLIC \"-//IETF//DTD HTML 2.0//EN\">\n<html><head>\n<title>404 Not Found</title>\n</head><body>\n<h1>Not Found</h1>\n<p>The requested URL was not found on this server.</p>\n<hr>\n<address>Apache/2.4.57 (Ubuntu) Server at localhost Port 80</address>\n</body></html>\n"
     ]
    }
   ],
   "source": [
    "yaml_file = \"cluster-config/create-persistent-volumes.yaml\"\n",
    "utils.create_from_yaml(k8s_client,yaml_file,namespace='dev')"
   ]
  },
  {
   "cell_type": "code",
   "execution_count": 19,
   "metadata": {},
   "outputs": [
    {
     "data": {
      "text/plain": [
       "[[{'api_version': 'v1',\n",
       "   'kind': 'PersistentVolumeClaim',\n",
       "   'metadata': {'annotations': None,\n",
       "                'creation_timestamp': datetime.datetime(2024, 3, 2, 15, 59, 22, tzinfo=tzutc()),\n",
       "                'deletion_grace_period_seconds': None,\n",
       "                'deletion_timestamp': None,\n",
       "                'finalizers': ['kubernetes.io/pvc-protection'],\n",
       "                'generate_name': None,\n",
       "                'generation': None,\n",
       "                'labels': None,\n",
       "                'managed_fields': [{'api_version': 'v1',\n",
       "                                    'fields_type': 'FieldsV1',\n",
       "                                    'fields_v1': {'f:spec': {'f:accessModes': {},\n",
       "                                                             'f:resources': {'f:requests': {'.': {},\n",
       "                                                                                            'f:storage': {}}},\n",
       "                                                             'f:volumeMode': {}}},\n",
       "                                    'manager': 'OpenAPI-Generator',\n",
       "                                    'operation': 'Update',\n",
       "                                    'subresource': None,\n",
       "                                    'time': datetime.datetime(2024, 3, 2, 15, 59, 22, tzinfo=tzutc())}],\n",
       "                'name': 'minio-pvc',\n",
       "                'namespace': 'dev',\n",
       "                'owner_references': None,\n",
       "                'resource_version': '1815',\n",
       "                'self_link': None,\n",
       "                'uid': '6270eaba-63b8-40ab-b7d9-a0d3cd73864e'},\n",
       "   'spec': {'access_modes': ['ReadWriteOnce'],\n",
       "            'data_source': None,\n",
       "            'data_source_ref': None,\n",
       "            'resources': {'limits': None, 'requests': {'storage': '8Gi'}},\n",
       "            'selector': None,\n",
       "            'storage_class_name': 'standard',\n",
       "            'volume_attributes_class_name': None,\n",
       "            'volume_mode': 'Filesystem',\n",
       "            'volume_name': None},\n",
       "   'status': {'access_modes': None,\n",
       "              'allocated_resource_statuses': None,\n",
       "              'allocated_resources': None,\n",
       "              'capacity': None,\n",
       "              'conditions': None,\n",
       "              'current_volume_attributes_class_name': None,\n",
       "              'modify_volume_status': None,\n",
       "              'phase': 'Pending'}}],\n",
       " [{'api_version': 'v1',\n",
       "   'kind': 'PersistentVolumeClaim',\n",
       "   'metadata': {'annotations': None,\n",
       "                'creation_timestamp': datetime.datetime(2024, 3, 2, 15, 59, 22, tzinfo=tzutc()),\n",
       "                'deletion_grace_period_seconds': None,\n",
       "                'deletion_timestamp': None,\n",
       "                'finalizers': ['kubernetes.io/pvc-protection'],\n",
       "                'generate_name': None,\n",
       "                'generation': None,\n",
       "                'labels': None,\n",
       "                'managed_fields': [{'api_version': 'v1',\n",
       "                                    'fields_type': 'FieldsV1',\n",
       "                                    'fields_v1': {'f:spec': {'f:accessModes': {},\n",
       "                                                             'f:resources': {'f:requests': {'.': {},\n",
       "                                                                                            'f:storage': {}}},\n",
       "                                                             'f:volumeMode': {}}},\n",
       "                                    'manager': 'OpenAPI-Generator',\n",
       "                                    'operation': 'Update',\n",
       "                                    'subresource': None,\n",
       "                                    'time': datetime.datetime(2024, 3, 2, 15, 59, 22, tzinfo=tzutc())}],\n",
       "                'name': 'kafka-pvc',\n",
       "                'namespace': 'dev',\n",
       "                'owner_references': None,\n",
       "                'resource_version': '1818',\n",
       "                'self_link': None,\n",
       "                'uid': '30b52895-69ae-406e-a2c1-4da08a4aba5c'},\n",
       "   'spec': {'access_modes': ['ReadWriteOnce'],\n",
       "            'data_source': None,\n",
       "            'data_source_ref': None,\n",
       "            'resources': {'limits': None, 'requests': {'storage': '8Gi'}},\n",
       "            'selector': None,\n",
       "            'storage_class_name': 'standard',\n",
       "            'volume_attributes_class_name': None,\n",
       "            'volume_mode': 'Filesystem',\n",
       "            'volume_name': None},\n",
       "   'status': {'access_modes': None,\n",
       "              'allocated_resource_statuses': None,\n",
       "              'allocated_resources': None,\n",
       "              'capacity': None,\n",
       "              'conditions': None,\n",
       "              'current_volume_attributes_class_name': None,\n",
       "              'modify_volume_status': None,\n",
       "              'phase': 'Pending'}}]]"
      ]
     },
     "execution_count": 19,
     "metadata": {},
     "output_type": "execute_result"
    }
   ],
   "source": [
    "yaml_file = \"cluster-config/pv-claim.yaml\"\n",
    "utils.create_from_yaml(k8s_client,yaml_file,namespace='dev')"
   ]
  }
 ],
 "metadata": {
  "kernelspec": {
   "display_name": "venv",
   "language": "python",
   "name": "python3"
  },
  "language_info": {
   "codemirror_mode": {
    "name": "ipython",
    "version": 3
   },
   "file_extension": ".py",
   "mimetype": "text/x-python",
   "name": "python",
   "nbconvert_exporter": "python",
   "pygments_lexer": "ipython3",
   "version": "3.11.6"
  }
 },
 "nbformat": 4,
 "nbformat_minor": 2
}
