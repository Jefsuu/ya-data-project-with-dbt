{
 "cells": [
  {
   "cell_type": "code",
   "execution_count": 36,
   "metadata": {},
   "outputs": [],
   "source": [
    "from kubernetes import client, config, utils\n",
    "import base64\n",
    "import yaml"
   ]
  },
  {
   "cell_type": "code",
   "execution_count": 37,
   "metadata": {},
   "outputs": [],
   "source": [
    "kube = client.CoreV1Api()\n",
    "config.load_kube_config()"
   ]
  },
  {
   "cell_type": "code",
   "execution_count": 18,
   "metadata": {},
   "outputs": [
    {
     "data": {
      "text/plain": [
       "b'Q8DJkq-FtVyRa7Dn'"
      ]
     },
     "execution_count": 18,
     "metadata": {},
     "output_type": "execute_result"
    }
   ],
   "source": [
    "argo_admin_secret = kube.read_namespaced_secret(\"argocd-initial-admin-secret\", \"argocd\")\n",
    "argo_admin_secret = base64.b64decode(argo_admin_secret.data['password'])"
   ]
  },
  {
   "cell_type": "code",
   "execution_count": 51,
   "metadata": {},
   "outputs": [
    {
     "data": {
      "text/plain": [
       "'l0lneCXJ9z'"
      ]
     },
     "execution_count": 51,
     "metadata": {},
     "output_type": "execute_result"
    }
   ],
   "source": [
    "minio_admin_secret = kube.read_namespaced_secret(\"dev-minio\", \"dev\")\n",
    "minio_admin_secret = base64.b64decode(minio_admin_secret.data['root-password'])\n",
    "minio_admin_secret.decode()"
   ]
  },
  {
   "cell_type": "code",
   "execution_count": 40,
   "metadata": {},
   "outputs": [],
   "source": [
    "with open(\"create-app.yaml\") as f:\n",
    "    deployment = yaml.safe_load(f)"
   ]
  },
  {
   "cell_type": "code",
   "execution_count": 46,
   "metadata": {},
   "outputs": [
    {
     "ename": "AttributeError",
     "evalue": "module 'kubernetes.client' has no attribute 'ArgoprojIoV1alpha1Api'",
     "output_type": "error",
     "traceback": [
      "\u001b[0;31m---------------------------------------------------------------------------\u001b[0m",
      "\u001b[0;31mAttributeError\u001b[0m                            Traceback (most recent call last)",
      "Cell \u001b[0;32mIn[46], line 3\u001b[0m\n\u001b[1;32m      1\u001b[0m k8s_client \u001b[38;5;241m=\u001b[39m client\u001b[38;5;241m.\u001b[39mApiClient()\n\u001b[1;32m      2\u001b[0m yaml_file \u001b[38;5;241m=\u001b[39m \u001b[38;5;124m\"\u001b[39m\u001b[38;5;124mcreate-app.yaml\u001b[39m\u001b[38;5;124m\"\u001b[39m\n\u001b[0;32m----> 3\u001b[0m \u001b[43mutils\u001b[49m\u001b[38;5;241;43m.\u001b[39;49m\u001b[43mcreate_from_yaml\u001b[49m\u001b[43m(\u001b[49m\u001b[43mk8s_client\u001b[49m\u001b[43m,\u001b[49m\u001b[43myaml_file\u001b[49m\u001b[43m,\u001b[49m\u001b[43mverbose\u001b[49m\u001b[38;5;241;43m=\u001b[39;49m\u001b[38;5;28;43;01mTrue\u001b[39;49;00m\u001b[43m)\u001b[49m\n",
      "File \u001b[0;32m~/estudo/project/ya-data-project-with-dbt/venv/lib/python3.11/site-packages/kubernetes/utils/create_from_yaml.py:167\u001b[0m, in \u001b[0;36mcreate_from_yaml\u001b[0;34m(k8s_client, yaml_file, yaml_objects, verbose, namespace, **kwargs)\u001b[0m\n\u001b[1;32m    165\u001b[0m     \u001b[38;5;28;01mwith\u001b[39;00m \u001b[38;5;28mopen\u001b[39m(os\u001b[38;5;241m.\u001b[39mpath\u001b[38;5;241m.\u001b[39mabspath(yaml_file)) \u001b[38;5;28;01mas\u001b[39;00m f:\n\u001b[1;32m    166\u001b[0m         yml_document_all \u001b[38;5;241m=\u001b[39m yaml\u001b[38;5;241m.\u001b[39mload_all(f, Loader\u001b[38;5;241m=\u001b[39mLoader)\n\u001b[0;32m--> 167\u001b[0m         \u001b[38;5;28;01mreturn\u001b[39;00m \u001b[43mcreate_with\u001b[49m\u001b[43m(\u001b[49m\u001b[43myml_document_all\u001b[49m\u001b[43m)\u001b[49m\n\u001b[1;32m    168\u001b[0m \u001b[38;5;28;01melse\u001b[39;00m:\n\u001b[1;32m    169\u001b[0m     \u001b[38;5;28;01mraise\u001b[39;00m \u001b[38;5;167;01mValueError\u001b[39;00m(\n\u001b[1;32m    170\u001b[0m         \u001b[38;5;124m'\u001b[39m\u001b[38;5;124mOne of `yaml_file` or `yaml_objects` arguments must be provided\u001b[39m\u001b[38;5;124m'\u001b[39m)\n",
      "File \u001b[0;32m~/estudo/project/ya-data-project-with-dbt/venv/lib/python3.11/site-packages/kubernetes/utils/create_from_yaml.py:146\u001b[0m, in \u001b[0;36mcreate_from_yaml.<locals>.create_with\u001b[0;34m(objects)\u001b[0m\n\u001b[1;32m    144\u001b[0m     \u001b[38;5;28;01mcontinue\u001b[39;00m\n\u001b[1;32m    145\u001b[0m \u001b[38;5;28;01mtry\u001b[39;00m:\n\u001b[0;32m--> 146\u001b[0m     created \u001b[38;5;241m=\u001b[39m \u001b[43mcreate_from_dict\u001b[49m\u001b[43m(\u001b[49m\u001b[43mk8s_client\u001b[49m\u001b[43m,\u001b[49m\u001b[43m \u001b[49m\u001b[43myml_document\u001b[49m\u001b[43m,\u001b[49m\u001b[43m \u001b[49m\u001b[43mverbose\u001b[49m\u001b[43m,\u001b[49m\n\u001b[1;32m    147\u001b[0m \u001b[43m                               \u001b[49m\u001b[43mnamespace\u001b[49m\u001b[38;5;241;43m=\u001b[39;49m\u001b[43mnamespace\u001b[49m\u001b[43m,\u001b[49m\n\u001b[1;32m    148\u001b[0m \u001b[43m                               \u001b[49m\u001b[38;5;241;43m*\u001b[39;49m\u001b[38;5;241;43m*\u001b[39;49m\u001b[43mkwargs\u001b[49m\u001b[43m)\u001b[49m\n\u001b[1;32m    149\u001b[0m     k8s_objects\u001b[38;5;241m.\u001b[39mappend(created)\n\u001b[1;32m    150\u001b[0m \u001b[38;5;28;01mexcept\u001b[39;00m FailToCreateError \u001b[38;5;28;01mas\u001b[39;00m failure:\n",
      "File \u001b[0;32m~/estudo/project/ya-data-project-with-dbt/venv/lib/python3.11/site-packages/kubernetes/utils/create_from_yaml.py:221\u001b[0m, in \u001b[0;36mcreate_from_dict\u001b[0;34m(k8s_client, data, verbose, namespace, **kwargs)\u001b[0m\n\u001b[1;32m    218\u001b[0m \u001b[38;5;28;01melse\u001b[39;00m:\n\u001b[1;32m    219\u001b[0m     \u001b[38;5;66;03m# This is a single object. Call the single item method\u001b[39;00m\n\u001b[1;32m    220\u001b[0m     \u001b[38;5;28;01mtry\u001b[39;00m:\n\u001b[0;32m--> 221\u001b[0m         created \u001b[38;5;241m=\u001b[39m \u001b[43mcreate_from_yaml_single_item\u001b[49m\u001b[43m(\u001b[49m\n\u001b[1;32m    222\u001b[0m \u001b[43m            \u001b[49m\u001b[43mk8s_client\u001b[49m\u001b[43m,\u001b[49m\u001b[43m \u001b[49m\u001b[43mdata\u001b[49m\u001b[43m,\u001b[49m\u001b[43m \u001b[49m\u001b[43mverbose\u001b[49m\u001b[43m,\u001b[49m\u001b[43m \u001b[49m\u001b[43mnamespace\u001b[49m\u001b[38;5;241;43m=\u001b[39;49m\u001b[43mnamespace\u001b[49m\u001b[43m,\u001b[49m\u001b[43m \u001b[49m\u001b[38;5;241;43m*\u001b[39;49m\u001b[38;5;241;43m*\u001b[39;49m\u001b[43mkwargs\u001b[49m\u001b[43m)\u001b[49m\n\u001b[1;32m    223\u001b[0m         k8s_objects\u001b[38;5;241m.\u001b[39mappend(created)\n\u001b[1;32m    224\u001b[0m     \u001b[38;5;28;01mexcept\u001b[39;00m client\u001b[38;5;241m.\u001b[39mrest\u001b[38;5;241m.\u001b[39mApiException \u001b[38;5;28;01mas\u001b[39;00m api_exception:\n",
      "File \u001b[0;32m~/estudo/project/ya-data-project-with-dbt/venv/lib/python3.11/site-packages/kubernetes/utils/create_from_yaml.py:247\u001b[0m, in \u001b[0;36mcreate_from_yaml_single_item\u001b[0;34m(k8s_client, yml_object, verbose, **kwargs)\u001b[0m\n\u001b[1;32m    245\u001b[0m group \u001b[38;5;241m=\u001b[39m \u001b[38;5;124m\"\u001b[39m\u001b[38;5;124m\"\u001b[39m\u001b[38;5;241m.\u001b[39mjoin(word\u001b[38;5;241m.\u001b[39mcapitalize() \u001b[38;5;28;01mfor\u001b[39;00m word \u001b[38;5;129;01min\u001b[39;00m group\u001b[38;5;241m.\u001b[39msplit(\u001b[38;5;124m'\u001b[39m\u001b[38;5;124m.\u001b[39m\u001b[38;5;124m'\u001b[39m))\n\u001b[1;32m    246\u001b[0m fcn_to_call \u001b[38;5;241m=\u001b[39m \u001b[38;5;124m\"\u001b[39m\u001b[38;5;132;01m{0}\u001b[39;00m\u001b[38;5;132;01m{1}\u001b[39;00m\u001b[38;5;124mApi\u001b[39m\u001b[38;5;124m\"\u001b[39m\u001b[38;5;241m.\u001b[39mformat(group, version\u001b[38;5;241m.\u001b[39mcapitalize())\n\u001b[0;32m--> 247\u001b[0m k8s_api \u001b[38;5;241m=\u001b[39m \u001b[38;5;28mgetattr\u001b[39m(client, fcn_to_call)(k8s_client)\n\u001b[1;32m    248\u001b[0m \u001b[38;5;66;03m# Replace CamelCased action_type into snake_case\u001b[39;00m\n\u001b[1;32m    249\u001b[0m kind \u001b[38;5;241m=\u001b[39m yml_object[\u001b[38;5;124m\"\u001b[39m\u001b[38;5;124mkind\u001b[39m\u001b[38;5;124m\"\u001b[39m]\n",
      "\u001b[0;31mAttributeError\u001b[0m: module 'kubernetes.client' has no attribute 'ArgoprojIoV1alpha1Api'"
     ]
    }
   ],
   "source": [
    "k8s_client = client.ApiClient()\n",
    "yaml_file = \"create-app.yaml\"\n",
    "utils.create_from_yaml(k8s_client,yaml_file,verbose=True)"
   ]
  },
  {
   "cell_type": "code",
   "execution_count": 44,
   "metadata": {},
   "outputs": [
    {
     "ename": "AttributeError",
     "evalue": "module 'kubernetes.client' has no attribute 'ExtensionsV1beta1Api'",
     "output_type": "error",
     "traceback": [
      "\u001b[0;31m---------------------------------------------------------------------------\u001b[0m",
      "\u001b[0;31mAttributeError\u001b[0m                            Traceback (most recent call last)",
      "Cell \u001b[0;32mIn[44], line 1\u001b[0m\n\u001b[0;32m----> 1\u001b[0m \u001b[43mclient\u001b[49m\u001b[38;5;241;43m.\u001b[39;49m\u001b[43mExtensionsV1beta1Api\u001b[49m()\n",
      "\u001b[0;31mAttributeError\u001b[0m: module 'kubernetes.client' has no attribute 'ExtensionsV1beta1Api'"
     ]
    }
   ],
   "source": [
    "client.ExtensionsV1beta1Api()"
   ]
  }
 ],
 "metadata": {
  "kernelspec": {
   "display_name": "venv",
   "language": "python",
   "name": "python3"
  },
  "language_info": {
   "codemirror_mode": {
    "name": "ipython",
    "version": 3
   },
   "file_extension": ".py",
   "mimetype": "text/x-python",
   "name": "python",
   "nbconvert_exporter": "python",
   "pygments_lexer": "ipython3",
   "version": "3.11.6"
  }
 },
 "nbformat": 4,
 "nbformat_minor": 2
}
