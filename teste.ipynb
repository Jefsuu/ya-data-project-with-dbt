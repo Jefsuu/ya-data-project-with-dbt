{
 "cells": [
  {
   "cell_type": "code",
   "execution_count": 20,
   "metadata": {},
   "outputs": [],
   "source": [
    "from kubernetes import client, config, utils\n",
    "import base64\n",
    "import yaml"
   ]
  },
  {
   "cell_type": "code",
   "execution_count": 21,
   "metadata": {},
   "outputs": [],
   "source": [
    "k8s_client = client.ApiClient()\n",
    "k8s_api = client.CoreV1Api()\n",
    "config.load_kube_config()"
   ]
  },
  {
   "cell_type": "code",
   "execution_count": 17,
   "metadata": {},
   "outputs": [
    {
     "data": {
      "text/plain": [
       "'H8eZR8jrJ9JuHQxq'"
      ]
     },
     "execution_count": 17,
     "metadata": {},
     "output_type": "execute_result"
    }
   ],
   "source": [
    "argo_admin_secret = k8s_api.read_namespaced_secret(\"argocd-initial-admin-secret\", \"argocd\")\n",
    "argo_admin_secret = base64.b64decode(argo_admin_secret.data['password'])\n",
    "argo_admin_secret.decode()"
   ]
  },
  {
   "cell_type": "code",
   "execution_count": 18,
   "metadata": {},
   "outputs": [
    {
     "data": {
      "text/plain": [
       "'admin1234'"
      ]
     },
     "execution_count": 18,
     "metadata": {},
     "output_type": "execute_result"
    }
   ],
   "source": [
    "minio_admin_secret = k8s_api.read_namespaced_secret(\"dev-minio\", \"dev\")\n",
    "minio_admin_secret = base64.b64decode(minio_admin_secret.data['root-password'])\n",
    "minio_admin_secret.decode()"
   ]
  },
  {
   "cell_type": "code",
   "execution_count": 22,
   "metadata": {},
   "outputs": [
    {
     "data": {
      "text/plain": [
       "{'api_version': 'v1',\n",
       " 'data': {'accessKey': 'eWR3eWFIekhTWm5Pc1gxcVhsTlc=',\n",
       "          'secretKey': 'dW5GSTlIeWhMazVQeE96RkdsNmIyeHZmbzhrM0ZmVzBRZ2laTTd1Sg=='},\n",
       " 'immutable': None,\n",
       " 'kind': 'Secret',\n",
       " 'metadata': {'annotations': None,\n",
       "              'creation_timestamp': datetime.datetime(2024, 3, 3, 15, 41, 49, tzinfo=tzutc()),\n",
       "              'deletion_grace_period_seconds': None,\n",
       "              'deletion_timestamp': None,\n",
       "              'finalizers': None,\n",
       "              'generate_name': None,\n",
       "              'generation': None,\n",
       "              'labels': None,\n",
       "              'managed_fields': [{'api_version': 'v1',\n",
       "                                  'fields_type': 'FieldsV1',\n",
       "                                  'fields_v1': {'f:data': {'.': {},\n",
       "                                                           'f:accessKey': {},\n",
       "                                                           'f:secretKey': {}},\n",
       "                                                'f:type': {}},\n",
       "                                  'manager': 'OpenAPI-Generator',\n",
       "                                  'operation': 'Update',\n",
       "                                  'subresource': None,\n",
       "                                  'time': datetime.datetime(2024, 3, 3, 15, 41, 49, tzinfo=tzutc())}],\n",
       "              'name': 'minio-access-secret',\n",
       "              'namespace': 'dev',\n",
       "              'owner_references': None,\n",
       "              'resource_version': '21377',\n",
       "              'self_link': None,\n",
       "              'uid': '2e8f0821-9066-4d79-a917-7c366f7346d0'},\n",
       " 'string_data': None,\n",
       " 'type': 'Opaque'}"
      ]
     },
     "execution_count": 22,
     "metadata": {},
     "output_type": "execute_result"
    }
   ],
   "source": [
    "k8s_api.read_namespaced_secret(\"minio-access-secret\", \"dev\")"
   ]
  },
  {
   "cell_type": "code",
   "execution_count": 18,
   "metadata": {},
   "outputs": [
    {
     "data": {
      "text/plain": [
       "[[{'api_version': 'v1',\n",
       "   'kind': 'PersistentVolume',\n",
       "   'metadata': {'annotations': None,\n",
       "                'creation_timestamp': datetime.datetime(2024, 3, 2, 15, 59, 19, tzinfo=tzutc()),\n",
       "                'deletion_grace_period_seconds': None,\n",
       "                'deletion_timestamp': None,\n",
       "                'finalizers': ['kubernetes.io/pv-protection'],\n",
       "                'generate_name': None,\n",
       "                'generation': None,\n",
       "                'labels': None,\n",
       "                'managed_fields': [{'api_version': 'v1',\n",
       "                                    'fields_type': 'FieldsV1',\n",
       "                                    'fields_v1': {'f:spec': {'f:accessModes': {},\n",
       "                                                             'f:capacity': {'.': {},\n",
       "                                                                            'f:storage': {}},\n",
       "                                                             'f:hostPath': {'.': {},\n",
       "                                                                            'f:path': {},\n",
       "                                                                            'f:type': {}},\n",
       "                                                             'f:persistentVolumeReclaimPolicy': {},\n",
       "                                                             'f:volumeMode': {}}},\n",
       "                                    'manager': 'OpenAPI-Generator',\n",
       "                                    'operation': 'Update',\n",
       "                                    'subresource': None,\n",
       "                                    'time': datetime.datetime(2024, 3, 2, 15, 59, 19, tzinfo=tzutc())}],\n",
       "                'name': 'minio-pv',\n",
       "                'namespace': None,\n",
       "                'owner_references': None,\n",
       "                'resource_version': '1807',\n",
       "                'self_link': None,\n",
       "                'uid': '299c9a48-7a28-46c9-8f18-be52ac4ce3a0'},\n",
       "   'spec': {'access_modes': ['ReadWriteOnce'],\n",
       "            'aws_elastic_block_store': None,\n",
       "            'azure_disk': None,\n",
       "            'azure_file': None,\n",
       "            'capacity': {'storage': '10Gi'},\n",
       "            'cephfs': None,\n",
       "            'cinder': None,\n",
       "            'claim_ref': None,\n",
       "            'csi': None,\n",
       "            'fc': None,\n",
       "            'flex_volume': None,\n",
       "            'flocker': None,\n",
       "            'gce_persistent_disk': None,\n",
       "            'glusterfs': None,\n",
       "            'host_path': {'path': '/volumes', 'type': ''},\n",
       "            'iscsi': None,\n",
       "            'local': None,\n",
       "            'mount_options': None,\n",
       "            'nfs': None,\n",
       "            'node_affinity': None,\n",
       "            'persistent_volume_reclaim_policy': 'Retain',\n",
       "            'photon_persistent_disk': None,\n",
       "            'portworx_volume': None,\n",
       "            'quobyte': None,\n",
       "            'rbd': None,\n",
       "            'scale_io': None,\n",
       "            'storage_class_name': None,\n",
       "            'storageos': None,\n",
       "            'volume_attributes_class_name': None,\n",
       "            'volume_mode': 'Filesystem',\n",
       "            'vsphere_volume': None},\n",
       "   'status': {'last_phase_transition_time': None,\n",
       "              'message': None,\n",
       "              'phase': 'Pending',\n",
       "              'reason': None}}],\n",
       " [{'api_version': 'v1',\n",
       "   'kind': 'PersistentVolume',\n",
       "   'metadata': {'annotations': None,\n",
       "                'creation_timestamp': datetime.datetime(2024, 3, 2, 15, 59, 19, tzinfo=tzutc()),\n",
       "                'deletion_grace_period_seconds': None,\n",
       "                'deletion_timestamp': None,\n",
       "                'finalizers': ['kubernetes.io/pv-protection'],\n",
       "                'generate_name': None,\n",
       "                'generation': None,\n",
       "                'labels': None,\n",
       "                'managed_fields': [{'api_version': 'v1',\n",
       "                                    'fields_type': 'FieldsV1',\n",
       "                                    'fields_v1': {'f:spec': {'f:accessModes': {},\n",
       "                                                             'f:capacity': {'.': {},\n",
       "                                                                            'f:storage': {}},\n",
       "                                                             'f:hostPath': {'.': {},\n",
       "                                                                            'f:path': {},\n",
       "                                                                            'f:type': {}},\n",
       "                                                             'f:persistentVolumeReclaimPolicy': {},\n",
       "                                                             'f:volumeMode': {}}},\n",
       "                                    'manager': 'OpenAPI-Generator',\n",
       "                                    'operation': 'Update',\n",
       "                                    'subresource': None,\n",
       "                                    'time': datetime.datetime(2024, 3, 2, 15, 59, 19, tzinfo=tzutc())}],\n",
       "                'name': 'kafka-pv',\n",
       "                'namespace': None,\n",
       "                'owner_references': None,\n",
       "                'resource_version': '1809',\n",
       "                'self_link': None,\n",
       "                'uid': '40ada42c-22e6-45e5-bb87-20b3e3d084cf'},\n",
       "   'spec': {'access_modes': ['ReadWriteOnce'],\n",
       "            'aws_elastic_block_store': None,\n",
       "            'azure_disk': None,\n",
       "            'azure_file': None,\n",
       "            'capacity': {'storage': '8Gi'},\n",
       "            'cephfs': None,\n",
       "            'cinder': None,\n",
       "            'claim_ref': None,\n",
       "            'csi': None,\n",
       "            'fc': None,\n",
       "            'flex_volume': None,\n",
       "            'flocker': None,\n",
       "            'gce_persistent_disk': None,\n",
       "            'glusterfs': None,\n",
       "            'host_path': {'path': '/volumes', 'type': ''},\n",
       "            'iscsi': None,\n",
       "            'local': None,\n",
       "            'mount_options': None,\n",
       "            'nfs': None,\n",
       "            'node_affinity': None,\n",
       "            'persistent_volume_reclaim_policy': 'Retain',\n",
       "            'photon_persistent_disk': None,\n",
       "            'portworx_volume': None,\n",
       "            'quobyte': None,\n",
       "            'rbd': None,\n",
       "            'scale_io': None,\n",
       "            'storage_class_name': None,\n",
       "            'storageos': None,\n",
       "            'volume_attributes_class_name': None,\n",
       "            'volume_mode': 'Filesystem',\n",
       "            'vsphere_volume': None},\n",
       "   'status': {'last_phase_transition_time': None,\n",
       "              'message': None,\n",
       "              'phase': 'Pending',\n",
       "              'reason': None}}]]"
      ]
     },
     "execution_count": 18,
     "metadata": {},
     "output_type": "execute_result"
    }
   ],
   "source": [
    "yaml_file = \"cluster-config/create-persistent-volumes.yaml\"\n",
    "utils.create_from_yaml(k8s_client,yaml_file,namespace='dev')"
   ]
  },
  {
   "cell_type": "code",
   "execution_count": 19,
   "metadata": {},
   "outputs": [
    {
     "data": {
      "text/plain": [
       "[[{'api_version': 'v1',\n",
       "   'kind': 'PersistentVolumeClaim',\n",
       "   'metadata': {'annotations': None,\n",
       "                'creation_timestamp': datetime.datetime(2024, 3, 2, 15, 59, 22, tzinfo=tzutc()),\n",
       "                'deletion_grace_period_seconds': None,\n",
       "                'deletion_timestamp': None,\n",
       "                'finalizers': ['kubernetes.io/pvc-protection'],\n",
       "                'generate_name': None,\n",
       "                'generation': None,\n",
       "                'labels': None,\n",
       "                'managed_fields': [{'api_version': 'v1',\n",
       "                                    'fields_type': 'FieldsV1',\n",
       "                                    'fields_v1': {'f:spec': {'f:accessModes': {},\n",
       "                                                             'f:resources': {'f:requests': {'.': {},\n",
       "                                                                                            'f:storage': {}}},\n",
       "                                                             'f:volumeMode': {}}},\n",
       "                                    'manager': 'OpenAPI-Generator',\n",
       "                                    'operation': 'Update',\n",
       "                                    'subresource': None,\n",
       "                                    'time': datetime.datetime(2024, 3, 2, 15, 59, 22, tzinfo=tzutc())}],\n",
       "                'name': 'minio-pvc',\n",
       "                'namespace': 'dev',\n",
       "                'owner_references': None,\n",
       "                'resource_version': '1815',\n",
       "                'self_link': None,\n",
       "                'uid': '6270eaba-63b8-40ab-b7d9-a0d3cd73864e'},\n",
       "   'spec': {'access_modes': ['ReadWriteOnce'],\n",
       "            'data_source': None,\n",
       "            'data_source_ref': None,\n",
       "            'resources': {'limits': None, 'requests': {'storage': '8Gi'}},\n",
       "            'selector': None,\n",
       "            'storage_class_name': 'standard',\n",
       "            'volume_attributes_class_name': None,\n",
       "            'volume_mode': 'Filesystem',\n",
       "            'volume_name': None},\n",
       "   'status': {'access_modes': None,\n",
       "              'allocated_resource_statuses': None,\n",
       "              'allocated_resources': None,\n",
       "              'capacity': None,\n",
       "              'conditions': None,\n",
       "              'current_volume_attributes_class_name': None,\n",
       "              'modify_volume_status': None,\n",
       "              'phase': 'Pending'}}],\n",
       " [{'api_version': 'v1',\n",
       "   'kind': 'PersistentVolumeClaim',\n",
       "   'metadata': {'annotations': None,\n",
       "                'creation_timestamp': datetime.datetime(2024, 3, 2, 15, 59, 22, tzinfo=tzutc()),\n",
       "                'deletion_grace_period_seconds': None,\n",
       "                'deletion_timestamp': None,\n",
       "                'finalizers': ['kubernetes.io/pvc-protection'],\n",
       "                'generate_name': None,\n",
       "                'generation': None,\n",
       "                'labels': None,\n",
       "                'managed_fields': [{'api_version': 'v1',\n",
       "                                    'fields_type': 'FieldsV1',\n",
       "                                    'fields_v1': {'f:spec': {'f:accessModes': {},\n",
       "                                                             'f:resources': {'f:requests': {'.': {},\n",
       "                                                                                            'f:storage': {}}},\n",
       "                                                             'f:volumeMode': {}}},\n",
       "                                    'manager': 'OpenAPI-Generator',\n",
       "                                    'operation': 'Update',\n",
       "                                    'subresource': None,\n",
       "                                    'time': datetime.datetime(2024, 3, 2, 15, 59, 22, tzinfo=tzutc())}],\n",
       "                'name': 'kafka-pvc',\n",
       "                'namespace': 'dev',\n",
       "                'owner_references': None,\n",
       "                'resource_version': '1818',\n",
       "                'self_link': None,\n",
       "                'uid': '30b52895-69ae-406e-a2c1-4da08a4aba5c'},\n",
       "   'spec': {'access_modes': ['ReadWriteOnce'],\n",
       "            'data_source': None,\n",
       "            'data_source_ref': None,\n",
       "            'resources': {'limits': None, 'requests': {'storage': '8Gi'}},\n",
       "            'selector': None,\n",
       "            'storage_class_name': 'standard',\n",
       "            'volume_attributes_class_name': None,\n",
       "            'volume_mode': 'Filesystem',\n",
       "            'volume_name': None},\n",
       "   'status': {'access_modes': None,\n",
       "              'allocated_resource_statuses': None,\n",
       "              'allocated_resources': None,\n",
       "              'capacity': None,\n",
       "              'conditions': None,\n",
       "              'current_volume_attributes_class_name': None,\n",
       "              'modify_volume_status': None,\n",
       "              'phase': 'Pending'}}]]"
      ]
     },
     "execution_count": 19,
     "metadata": {},
     "output_type": "execute_result"
    }
   ],
   "source": [
    "yaml_file = \"cluster-config/pv-claim.yaml\"\n",
    "utils.create_from_yaml(k8s_client,yaml_file,namespace='dev')"
   ]
  }
 ],
 "metadata": {
  "kernelspec": {
   "display_name": "venv",
   "language": "python",
   "name": "python3"
  },
  "language_info": {
   "codemirror_mode": {
    "name": "ipython",
    "version": 3
   },
   "file_extension": ".py",
   "mimetype": "text/x-python",
   "name": "python",
   "nbconvert_exporter": "python",
   "pygments_lexer": "ipython3",
   "version": "3.11.6"
  }
 },
 "nbformat": 4,
 "nbformat_minor": 2
}
